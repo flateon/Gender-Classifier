{
 "cells": [
  {
   "cell_type": "code",
   "execution_count": null,
   "metadata": {
    "collapsed": true
   },
   "outputs": [],
   "source": [
    "import random\n",
    "\n",
    "from PIL import Image\n",
    "from pathlib import Path\n",
    "import matplotlib.pyplot as plt\n",
    "import os\n",
    "src = Path('dataset/unmark')\n",
    "dst = Path('dataset/all')\n",
    "male, female = 0, 0\n",
    "# plt.ion()\n",
    "# 从指定序号图片开始标注\n",
    "files = list(file for file in src.glob('*.jpg') if file.name.split('_')[0] not in '男女')\n",
    "random.shuffle(files)\n",
    "for idx, file in enumerate(files):\n",
    "    img = Image.open(file)\n",
    "    if img.size[0] > img.size[1]:\n",
    "        continue\n",
    "    plt.imshow(img.resize((307, 437)))\n",
    "    plt.axis('off')\n",
    "    plt.show()\n",
    "    gender = input()\n",
    "    if gender == 'n':\n",
    "        female += 1\n",
    "        name = f'女_{file.stem}_{idx}{file.suffix}'\n",
    "    elif gender == 'm':\n",
    "        male += 1\n",
    "        name = f'男_{file.stem}_{idx}{file.suffix}'\n",
    "    else:\n",
    "        continue\n",
    "    file.rename(dst / name)\n",
    "    print(idx,name)\n",
    "print(f'男={male},女={female}')\n"
   ]
  }
 ],
 "metadata": {
  "kernelspec": {
   "display_name": "Python 3",
   "language": "python",
   "name": "python3"
  },
  "language_info": {
   "codemirror_mode": {
    "name": "ipython",
    "version": 2
   },
   "file_extension": ".py",
   "mimetype": "text/x-python",
   "name": "python",
   "nbconvert_exporter": "python",
   "pygments_lexer": "ipython2",
   "version": "2.7.6"
  }
 },
 "nbformat": 4,
 "nbformat_minor": 0
}